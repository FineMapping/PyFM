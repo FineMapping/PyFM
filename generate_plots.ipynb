{
 "cells": [
  {
   "cell_type": "code",
   "execution_count": 15,
   "metadata": {
    "collapsed": false,
    "jupyter": {
     "outputs_hidden": false
    },
    "pycharm": {
     "is_executing": true,
     "name": "#%%\n"
    }
   },
   "outputs": [],
   "source": [
    "import pandas as pd\n",
    "import os\n",
    "import re\n",
    "import matplotlib.pyplot as plt\n",
    "import numpy as np"
   ]
  },
  {
   "cell_type": "code",
   "execution_count": null,
   "outputs": [],
   "source": [
    "cv_dir = '/media/zhaoyang-new/workspace/westonelison_finemap_simulator/CSE_284_Finemapping/simulations/archive_data/data/'\n",
    "# cv_dir = '/media/zhaoyang-new/workspace/westonelison_finemap_simulator/CSE_284_Finemapping/simulations/simulation_summary_stats/'\n",
    "finemap_folder = '/media/zhaoyang-new/workspace/westonelison_finemap_simulator/CSE_284_Finemapping/simulations/archive_data/finemapping_results/'"
   ],
   "metadata": {
    "collapsed": false,
    "pycharm": {
     "name": "#%%\n"
    }
   }
  },
  {
   "cell_type": "markdown",
   "source": [
    "## Presentation Plots:"
   ],
   "metadata": {
    "collapsed": false,
    "pycharm": {
     "name": "#%% md\n"
    }
   }
  },
  {
   "cell_type": "code",
   "execution_count": null,
   "outputs": [],
   "source": [
    "data_folder = 'sampling_run/'\n",
    "\n",
    "data = []\n",
    "for folder in os.listdir(data_folder):\n",
    "\trho_file = data_folder + '/' + folder + '/rhos.tsv'\n",
    "\ttime_file = data_folder + '/' + folder + '/time.txt'\n",
    "\n",
    "\tmeta_info = re.match(r\"i(\\d+)_K(\\d+)_r(\\d+)\", folder.split('/')[-1])\n",
    "\tn_iteration = int(meta_info.group(1))\n",
    "\tk = int(meta_info.group(2))\n",
    "\trun = int(meta_info.group(3))\n",
    "\n",
    "\tsnp_selected = []\n",
    "\twith open(rho_file) as fp_read:\n",
    "\t\tfp_read.readline()\n",
    "\t\tfp_read.readline()\n",
    "\t\tfor line in fp_read:\n",
    "\t\t\tinfo = line.replace('\\n', '').split('\\t')\n",
    "\t\t\tsnp_selected.append(int(info[1]))\n",
    "\n",
    "\twith open(time_file) as fp_read:\n",
    "\t\tline = fp_read.readline().replace('\\n', '')\n",
    "\t\ttime = float(line)\n",
    "\n",
    "\tdata_entry = {'n_iteration': n_iteration,\n",
    "\t\t\t\t  'k': 'k=' + str(k),\n",
    "\t\t\t\t  'run': run,\n",
    "\t\t\t\t  'SNPs': snp_selected,\n",
    "\t\t\t\t  'n_SNP': len(snp_selected),\n",
    "\t\t\t\t  'time': time}\n",
    "\tdata.append(data_entry)\n",
    "\n",
    "df = pd.DataFrame(data)"
   ],
   "metadata": {
    "collapsed": false,
    "pycharm": {
     "name": "#%%\n"
    }
   }
  },
  {
   "cell_type": "code",
   "execution_count": null,
   "outputs": [],
   "source": [
    "df"
   ],
   "metadata": {
    "collapsed": false,
    "pycharm": {
     "name": "#%%\n"
    }
   }
  },
  {
   "cell_type": "code",
   "execution_count": null,
   "outputs": [],
   "source": [
    "df_grouped = df.groupby(['n_iteration', 'k'])['time'].agg(['mean', 'std']).reset_index()\n",
    "\n",
    "fig, ax = plt.subplots(figsize=(12, 8))\n",
    "\n",
    "for k_val in df_grouped['k'].unique():\n",
    "    df_k = df_grouped[df_grouped['k'] == k_val]\n",
    "    ax.errorbar(df_k['n_iteration'], df_k['mean'], yerr=df_k['std'], fmt='o-', label=f'{k_val}')\n",
    "\n",
    "ax.set_xlabel('Number of Iterations', fontsize=14)\n",
    "ax.set_ylabel('Time (sec)', fontsize=14)\n",
    "ax.set_title('PyFM runtime vs. Number of Iterations', fontsize=18)\n",
    "ax.legend(fontsize=14)\n",
    "fig.savefig('figs/runtime.png')"
   ],
   "metadata": {
    "collapsed": false,
    "pycharm": {
     "name": "#%%\n"
    }
   }
  },
  {
   "cell_type": "code",
   "execution_count": null,
   "outputs": [],
   "source": [
    "correct_SNPs = [153, 156, 166]"
   ],
   "metadata": {
    "collapsed": false,
    "pycharm": {
     "name": "#%%\n"
    }
   }
  },
  {
   "cell_type": "code",
   "execution_count": null,
   "outputs": [],
   "source": [
    "count_correct_SNPs = lambda row: sum(snp in correct_SNPs for snp in row['SNPs'])\n",
    "df['correct_SNPs_count'] = df.apply(count_correct_SNPs, axis=1)\n",
    "df['percent_SNP_capture'] = df['correct_SNPs_count'] / 3.0"
   ],
   "metadata": {
    "collapsed": false,
    "pycharm": {
     "name": "#%%\n"
    }
   }
  },
  {
   "cell_type": "code",
   "execution_count": null,
   "outputs": [],
   "source": [
    "df_grouped = df.groupby(['n_iteration', 'k'])['percent_SNP_capture'].agg(['mean', 'std']).reset_index()\n",
    "\n",
    "fig, ax = plt.subplots(figsize=(12, 8))\n",
    "\n",
    "for k_val in df_grouped['k'].unique():\n",
    "    df_k = df_grouped[df_grouped['k'] == k_val]\n",
    "    ax.plot(df_k['n_iteration'], df_k['mean'], label=f'{k_val}')\n",
    "\n",
    "ax.set_xlabel('Number of Iterations', fontsize=14)\n",
    "ax.set_ylabel('%Correct SNP Included', fontsize=14)\n",
    "ax.set_title('PyFM %Causal Inclusion vs. Number of Iterations, Assuming 3 causal variants', fontsize=18)\n",
    "ax.legend(fontsize=14)\n",
    "fig.savefig('figs/correct_vs_nitr.png')"
   ],
   "metadata": {
    "collapsed": false,
    "pycharm": {
     "name": "#%%\n"
    }
   }
  },
  {
   "cell_type": "code",
   "execution_count": null,
   "outputs": [],
   "source": [
    "df_filtered = df[(df['n_iteration'] == 1000) | (df['n_iteration'] == 700)]\n",
    "df_grouped = df.groupby(['n_SNP', 'k'])['percent_SNP_capture'].agg(['mean', 'std']).reset_index()\n",
    "# df_grouped = df_grouped[~((df_grouped['n_SNP'] == 11) & (df_grouped['k'] == 'k=5'))]\n",
    "exhaustive = []\n",
    "for i in range(2, 16):\n",
    "\tif i < 3:\n",
    "\t\tnew_exhaustive = {'n_SNP': i, 'k': 'exhaustive', 'mean': i / 3, 'std': 0}\n",
    "\telse:\n",
    "\t\tnew_exhaustive = {'n_SNP': i, 'k': 'exhaustive', 'mean': 1, 'std': 0}\n",
    "\texhaustive.append(new_exhaustive)\n",
    "df_grouped = df_grouped.append(exhaustive, ignore_index=True)\n",
    "\n",
    "fig, ax = plt.subplots(figsize=(12, 8))\n",
    "\n",
    "for k_val in df_grouped['k'].unique():\n",
    "    df_k = df_grouped[df_grouped['k'] == k_val]\n",
    "    ax.plot(df_k['n_SNP'], df_k['mean'], label=f'{k_val}')\n",
    "\n",
    "ax.set_xlabel('Number of SNPs Selected', fontsize=14)\n",
    "ax.set_ylabel('%Correct SNP Included', fontsize=14)\n",
    "ax.set_title('PyFM %Causal Inclusion vs. Number of SNPs Selected, Assuming 3 causal variants', fontsize=18)\n",
    "\n",
    "legend_order = ['k=3', 'k=5', 'k=7', 'exhaustive']  # Example order: k=1, k=3, k=5, exhaustive\n",
    "handles, labels = plt.gca().get_legend_handles_labels()\n",
    "ordered_handles = [handles[labels.index(label)] for label in legend_order]\n",
    "ordered_labels = legend_order\n",
    "plt.legend(ordered_handles, ordered_labels, loc='lower right', fontsize='large')\n",
    "\n",
    "fig.savefig('figs/correct_vs_nsnp.png')"
   ],
   "metadata": {
    "collapsed": false,
    "pycharm": {
     "name": "#%%\n"
    }
   }
  },
  {
   "cell_type": "markdown",
   "source": [
    "## Test PyFM on Simulated Data: convert file format"
   ],
   "metadata": {
    "collapsed": false,
    "pycharm": {
     "name": "#%% md\n"
    }
   }
  },
  {
   "cell_type": "code",
   "execution_count": null,
   "outputs": [],
   "source": [
    "in_file = '/media/zhaoyang-new/workspace/westonelison_finemap_simulator/CSE_284_Finemapping/simulations/simulation_summary_stats/1KGP_hg19_APOE_1MB.vcf.gz_173167643/ss_3_CV_10000_ctrl_10000_case.finemap.z'\n",
    "df = pd.read_csv(in_file, sep=' ')"
   ],
   "metadata": {
    "collapsed": false,
    "pycharm": {
     "name": "#%%\n"
    }
   }
  },
  {
   "cell_type": "code",
   "execution_count": null,
   "outputs": [],
   "source": [
    "out_dir = '/media/zhaoyang-new/workspace/PyFM/example/sim_test/'\n",
    "df[['rsid', 'beta', 'se']].to_csv(out_dir + '173167643.z', index=False, header=False, sep=' ')"
   ],
   "metadata": {
    "collapsed": false,
    "pycharm": {
     "name": "#%%\n"
    }
   }
  },
  {
   "cell_type": "code",
   "execution_count": null,
   "outputs": [],
   "source": [
    "out_dir = '/media/zhaoyang-new/workspace/PyFM/example/sim_test/'\n",
    "df[['rsid', 'beta', 'se']].to_csv(out_dir + '173167643.z', index=False, header=False, sep=' ')"
   ],
   "metadata": {
    "collapsed": false,
    "pycharm": {
     "name": "#%%\n"
    }
   }
  },
  {
   "cell_type": "code",
   "execution_count": null,
   "outputs": [],
   "source": [
    "## Extract True CV"
   ],
   "metadata": {
    "collapsed": false,
    "pycharm": {
     "name": "#%%\n"
    }
   }
  },
  {
   "cell_type": "code",
   "execution_count": null,
   "outputs": [],
   "source": [
    "cv_data = []\n",
    "\n",
    "for folder in [d for d in os.listdir(cv_dir) if os.path.isdir(os.path.join(cv_dir, d))]:\n",
    "    region = folder.split('.')[0]\n",
    "    seed = folder.split('_')[-1]\n",
    "    \n",
    "    folder_path = os.path.join(cv_dir, folder)\n",
    "    files = [f for f in os.listdir(folder_path) if os.path.isfile(os.path.join(folder_path, f))]\n",
    "    tsv_file_name = \"\"\n",
    "    for f in files:\n",
    "        if f.endswith('.tsv'):\n",
    "            tsv_file_name = f\n",
    "            break\n",
    "    tsv_file_path = os.path.join(folder_path, tsv_file_name)\n",
    "    tsv_df = pd.read_csv(tsv_file_path, sep='\\t')\n",
    "    cv_df = tsv_df[tsv_df['CV'] != 0]\n",
    "    cv = cv_df['snps'].tolist()\n",
    "\n",
    "    new_data_entry = {'region': region,\n",
    "                      'seed': int(seed),\n",
    "                      'CV': cv}\n",
    "    cv_data.append(new_data_entry)\n",
    "\n",
    "grand_cv_df = pd.DataFrame(cv_data)"
   ],
   "metadata": {
    "collapsed": false,
    "pycharm": {
     "name": "#%%\n"
    }
   }
  },
  {
   "cell_type": "code",
   "execution_count": null,
   "outputs": [],
   "source": [
    "# grand_cv_df.to_csv('simulated_data_CV.csv', index=False)"
   ],
   "metadata": {
    "collapsed": false,
    "pycharm": {
     "name": "#%%\n"
    }
   }
  },
  {
   "cell_type": "markdown",
   "source": [
    "## Extract PyFM Run Results"
   ],
   "metadata": {
    "collapsed": false,
    "pycharm": {
     "name": "#%% md\n"
    }
   }
  },
  {
   "cell_type": "code",
   "execution_count": null,
   "outputs": [],
   "source": [
    "def read_PyFM_output(data_folder):\n",
    "    data = []\n",
    "    for folder in os.listdir(data_folder):\n",
    "        rho_file = data_folder + '/' + folder + '/rhos.tsv'\n",
    "        \n",
    "        if not os.path.isfile(rho_file):\n",
    "            continue  # this folder's run was incomplete\n",
    "    \n",
    "        match = re.match(r\"i(\\d+)_K(\\d+)_r(\\d+)_cv(\\d+)_region(\\w+)_seed(\\d+)\", folder)\n",
    "    \n",
    "        \n",
    "        i_value = int(match.group(1))\n",
    "        K_value = int(match.group(2))\n",
    "        r_value = int(match.group(3))\n",
    "        cv_value = match.group(4)\n",
    "        region_value = match.group(5)\n",
    "        seed_value = int(match.group(6))\n",
    "    \n",
    "        snp_selected = []\n",
    "        with open(rho_file) as fp_read:\n",
    "            fp_read.readline()\n",
    "            fp_read.readline()\n",
    "            counter = 0\n",
    "            for line in fp_read:\n",
    "                info = line.replace('\\n', '').split('\\t')\n",
    "                snp_selected.append(info[2])\n",
    "            counter += 1\n",
    "            if counter == 49:\n",
    "                break\n",
    "    \n",
    "        new_data_entry = {'region': region_value,\n",
    "                          'seed': seed_value,\n",
    "                          'n_CV': cv_value,\n",
    "                          'run_k': K_value,\n",
    "                          'run_i': i_value,\n",
    "                          'run_r': r_value,\n",
    "                          'snp_selected': snp_selected}\n",
    "        data.append(new_data_entry)\n",
    "    df = pd.DataFrame(data)\n",
    "    return df"
   ],
   "metadata": {
    "collapsed": false,
    "pycharm": {
     "name": "#%%\n"
    }
   }
  },
  {
   "cell_type": "code",
   "execution_count": null,
   "outputs": [],
   "source": [
    "cv4_folder = '/media/zhaoyang-new/workspace/PyFM/simulated_data_run_cv4/'\n",
    "cv4_df = read_PyFM_output(cv4_folder)"
   ],
   "metadata": {
    "collapsed": false,
    "pycharm": {
     "name": "#%%\n"
    }
   }
  },
  {
   "cell_type": "code",
   "execution_count": null,
   "outputs": [],
   "source": [
    "cv5_folder = '/media/zhaoyang-new/workspace/PyFM/simulated_data_run_cv5/'\n",
    "cv5_df = read_PyFM_output(cv5_folder)"
   ],
   "metadata": {
    "collapsed": false,
    "pycharm": {
     "name": "#%%\n"
    }
   }
  },
  {
   "cell_type": "markdown",
   "source": [
    "## Extract FINEMAP Run Results"
   ],
   "metadata": {
    "collapsed": false,
    "pycharm": {
     "name": "#%% md\n"
    }
   }
  },
  {
   "cell_type": "code",
   "execution_count": null,
   "outputs": [],
   "source": [
    "data = []\n",
    "\n",
    "for folder in os.listdir(finemap_folder):\n",
    "    region = folder.split('.')[0]\n",
    "    seed = folder.split('_')[-1]\n",
    "    \n",
    "    folder_path = os.path.join(finemap_folder, folder)\n",
    "    files = [f for f in os.listdir(folder_path) if os.path.isfile(os.path.join(folder_path, f))]\n",
    "    snp_file_name = \"\"\n",
    "    for f in files:\n",
    "        if f.endswith('.snp'):\n",
    "            snp_file_name = f\n",
    "            break\n",
    "    snp_file_path = os.path.join(folder_path, snp_file_name)\n",
    "\n",
    "    snp_df = pd.read_csv(snp_file_path, sep=' ')\n",
    "    snp_selected = snp_df['rsid'].head(50).tolist()\n",
    "\n",
    "    new_data_entry = {'region': region,\n",
    "                          'seed': int(seed),\n",
    "                          'snp_selected': snp_selected}\n",
    "    data.append(new_data_entry)\n",
    "\n",
    "finemap_df = pd.DataFrame(data)"
   ],
   "metadata": {
    "collapsed": false,
    "pycharm": {
     "name": "#%%\n"
    }
   }
  },
  {
   "cell_type": "markdown",
   "source": [
    "## Get Correct Number of SNPs Called"
   ],
   "metadata": {
    "collapsed": false,
    "pycharm": {
     "name": "#%% md\n"
    }
   }
  },
  {
   "cell_type": "code",
   "execution_count": null,
   "outputs": [],
   "source": [
    "def count_cv(row, n_snp):\n",
    "    return sum(1 for cv in row['snp_selected'][:n_snp] if cv in row['CV'])"
   ],
   "metadata": {
    "collapsed": false,
    "pycharm": {
     "name": "#%%\n"
    }
   }
  },
  {
   "cell_type": "code",
   "execution_count": null,
   "outputs": [],
   "source": [
    "def get_nsnp_counts(a, b, df):\n",
    "    df = pd.merge(df, grand_cv_df, on=['region', 'seed'], how='left')\n",
    "    for i in range(a, b + 1):\n",
    "        df['count_' + str(i)] = df.apply(count_cv, args=(i,), axis=1)\n",
    "    return df"
   ],
   "metadata": {
    "collapsed": false,
    "pycharm": {
     "name": "#%%\n"
    }
   }
  },
  {
   "cell_type": "code",
   "execution_count": null,
   "outputs": [],
   "source": [
    "cv4_df = get_nsnp_counts(4, 15, cv4_df)\n",
    "cv5_df = get_nsnp_counts(4, 15, cv5_df)\n",
    "finemap_df = get_nsnp_counts(4, 15, finemap_df)"
   ],
   "metadata": {
    "collapsed": false,
    "pycharm": {
     "name": "#%%\n"
    }
   }
  },
  {
   "cell_type": "code",
   "execution_count": null,
   "outputs": [],
   "source": [
    "cv4_df"
   ],
   "metadata": {
    "collapsed": false,
    "pycharm": {
     "name": "#%%\n"
    }
   }
  },
  {
   "cell_type": "code",
   "execution_count": null,
   "outputs": [],
   "source": [
    "cv5_df"
   ],
   "metadata": {
    "collapsed": false,
    "pycharm": {
     "name": "#%%\n"
    }
   }
  },
  {
   "cell_type": "code",
   "execution_count": null,
   "outputs": [],
   "source": [
    "finemap_df"
   ],
   "metadata": {
    "collapsed": false,
    "pycharm": {
     "name": "#%%\n"
    }
   }
  },
  {
   "cell_type": "markdown",
   "source": [
    "## Plotting for Paper"
   ],
   "metadata": {
    "collapsed": false,
    "pycharm": {
     "name": "#%% md\n"
    }
   }
  },
  {
   "cell_type": "code",
   "execution_count": null,
   "outputs": [],
   "source": [
    "pyfm_df = pd.concat([cv4_df, cv5_df], axis=0)"
   ],
   "metadata": {
    "collapsed": false,
    "pycharm": {
     "name": "#%%\n"
    }
   }
  },
  {
   "cell_type": "code",
   "execution_count": null,
   "outputs": [],
   "source": [
    "pyfm_dict = {int(col.split('_')[1]): float(pyfm_df[col].mean()) for col in pyfm_df.columns if col.startswith('count_')}"
   ],
   "metadata": {
    "collapsed": false,
    "pycharm": {
     "name": "#%%\n"
    }
   }
  },
  {
   "cell_type": "code",
   "execution_count": null,
   "outputs": [],
   "source": [
    "finemap_dict = {int(col.split('_')[1]): float(finemap_df[col].mean()) for col in finemap_df.columns if col.startswith('count_')}"
   ],
   "metadata": {
    "collapsed": false,
    "pycharm": {
     "name": "#%%\n"
    }
   }
  },
  {
   "cell_type": "code",
   "execution_count": null,
   "outputs": [],
   "source": [
    "plt.figure(figsize=(10, 6))\n",
    "\n",
    "plt.plot(list(pyfm_dict.keys()), list(pyfm_dict.values()), label='PyFM (k=4, 1k iterations)', marker='o')\n",
    "plt.plot(list(finemap_dict.keys()), list(finemap_dict.values()), label='FINEMAP (k=5, 100k iterations)', marker='s')\n",
    "\n",
    "# Add labels and title\n",
    "plt.xlabel('Number of SNPs included in the final answer')\n",
    "plt.ylabel('%Causal SNPs Caught')\n",
    "plt.title('Number of SNPs included vs. %Causal Caught, with 4 Causal Variants simulated')\n",
    "plt.legend()\n",
    "\n",
    "# Show plot\n",
    "# plt.show()\n",
    "plt.savefig('paper_benchmark.png')"
   ],
   "metadata": {
    "collapsed": false,
    "pycharm": {
     "name": "#%%\n"
    }
   }
  },
  {
   "cell_type": "code",
   "execution_count": null,
   "outputs": [],
   "source": [
    "df_grouped = df.groupby(['n_iteration', 'k'])['percent_SNP_capture'].agg(['mean', 'std']).reset_index()\n",
    "\n",
    "fig, ax = plt.subplots(figsize=(12, 8))\n",
    "\n",
    "for k_val in df_grouped['k'].unique():\n",
    "    df_k = df_grouped[df_grouped['k'] == k_val]\n",
    "    ax.plot(df_k['n_iteration'], df_k['mean'], label=f'{k_val}')\n",
    "\n",
    "ax.set_xlabel('Number of Iterations', fontsize=14)\n",
    "ax.set_ylabel('%Correct SNP Included', fontsize=14)\n",
    "ax.set_title('PyFM %Causal Inclusion vs. Number of Iterations, Assuming 3 causal variants', fontsize=18)\n",
    "ax.legend(fontsize=14)\n",
    "fig.savefig('figs/correct_vs_nitr.png')"
   ],
   "metadata": {
    "collapsed": false,
    "pycharm": {
     "name": "#%%\n"
    }
   }
  },
  {
   "cell_type": "code",
   "execution_count": null,
   "metadata": {},
   "outputs": [],
   "source": [
    "df_grouped = df.groupby(['n_iteration', 'k'])['percent_SNP_capture'].agg(['mean', 'std']).reset_index()\n",
    "\n",
    "fig, ax = plt.subplots(figsize=(12, 8))\n",
    "\n",
    "for k_val in df_grouped['k'].unique():\n",
    "    df_k = df_grouped[df_grouped['k'] == k_val]\n",
    "    ax.plot(df_k['n_iteration'], df_k['mean'], label=f'{k_val}')\n",
    "\n",
    "ax.set_xlabel('Number of Iterations', fontsize=14)\n",
    "ax.set_ylabel('%Correct SNP Included', fontsize=14)\n",
    "ax.set_title('PyFM %Causal Inclusion vs. Number of Iterations, Assuming 3 causal variants', fontsize=18)\n",
    "ax.legend(fontsize=14)\n",
    "fig.savefig('figs/correct_vs_nitr.png')"
   ]
  }
 ],
 "metadata": {
  "kernelspec": {
   "display_name": "Python 3 (ipykernel)",
   "language": "python",
   "name": "python3"
  },
  "language_info": {
   "codemirror_mode": {
    "name": "ipython",
    "version": 3
   },
   "file_extension": ".py",
   "mimetype": "text/x-python",
   "name": "python",
   "nbconvert_exporter": "python",
   "pygments_lexer": "ipython3",
   "version": "3.8.10"
  }
 },
 "nbformat": 4,
 "nbformat_minor": 4
}