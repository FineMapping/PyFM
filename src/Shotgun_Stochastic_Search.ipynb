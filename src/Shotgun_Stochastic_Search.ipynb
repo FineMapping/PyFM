{
 "cells": [
  {
   "cell_type": "markdown",
   "id": "651ead5d",
   "metadata": {},
   "source": [
    "# Shotgun Stochastic Search\n",
    "<br>\n",
    "\n",
    "> #### Gino Prasad\n",
    "> #### 03/06/2024\n",
    "<br>\n"
   ]
  },
  {
   "cell_type": "code",
   "execution_count": 1,
   "id": "8e67bc27",
   "metadata": {},
   "outputs": [],
   "source": [
    "import bf\n",
    "import fm\n",
    "import importlib\n",
    "import os\n",
    "from tqdm import tqdm\n",
    "bf = importlib.reload(bf)\n",
    "fm = importlib.reload(fm)"
   ]
  },
  {
   "cell_type": "code",
   "execution_count": 2,
   "id": "77373c56",
   "metadata": {},
   "outputs": [],
   "source": [
    "import numpy as np"
   ]
  },
  {
   "cell_type": "markdown",
   "id": "7fd584ea",
   "metadata": {},
   "source": [
    "python src/fm.py \\\n",
    "  -z  \\\n",
    "  -r example/eQTL/region.LOC284581.chr1.205831207.205865215.dosage.p1e-12.LD \\\n",
    "  -o pyfm_results \\\n",
    "  -n 471 -c 2 -t 0 -e 0.1 -a 1.6"
   ]
  },
  {
   "cell_type": "code",
   "execution_count": 3,
   "id": "5a566844",
   "metadata": {},
   "outputs": [],
   "source": [
    "def parse_args(zfile='../example/eQTL/region.LOC284581.chr1.205831207.205865215.dosage.p1e-12.z', rfile='../example/eQTL/region.LOC284581.chr1.205831207.205865215.dosage.p1e-12.LD', outdir='../pyfm_results',\n",
    "              max_causal=2, epsilon=0.1, sample_number=471, approx_bf=False, prior_values='1.6', prior_type=0, rho=1):\n",
    "    n = int(sample_number)\n",
    "    approx_bf = approx_bf\n",
    "\n",
    "    # TODO: make sure zfile and rfile exist\n",
    "    data = fm.Data(zfile, rfile, n, approx_bf)\n",
    "\n",
    "    # TODO: make sure outdir exists otherwise make folders and subfolders as needed\n",
    "    outdir = outdir\n",
    "    prior_type = bool(prior_type)\n",
    "    pve_for_prior = int(prior_type) > 0 # switch arg for prior_type\n",
    "    prior_values = np.array([float(x) for x in prior_values.split()])\n",
    "    e = float(epsilon)\n",
    "\n",
    "    if not pve_for_prior:\n",
    "        prior_values = prior_values**2  # sigmaa^2\n",
    "    else:\n",
    "        prior_values = prior_values / (1 - prior_values)\n",
    "\n",
    "    max_causal = int(max_causal)\n",
    "\n",
    "    configs_method = 'AllConfigurations'\n",
    "\n",
    "    rho = float(rho)\n",
    "    return (\n",
    "        data,\n",
    "        n,\n",
    "        pve_for_prior,\n",
    "        prior_values,\n",
    "        e,\n",
    "        max_causal,\n",
    "        configs_method,\n",
    "        approx_bf,\n",
    "        rho,\n",
    "        outdir,\n",
    "    )"
   ]
  },
  {
   "cell_type": "code",
   "execution_count": 4,
   "id": "1b1568a7",
   "metadata": {},
   "outputs": [
    {
     "name": "stdout",
     "output_type": "stream",
     "text": [
      "[[ 1.          0.86813357  0.71818377 ...  0.30319694  0.30546027\n",
      "  -0.08762142]\n",
      " [ 0.86813357  1.          0.74716836 ...  0.29319762  0.29436166\n",
      "  -0.07504671]\n",
      " [ 0.71818377  0.74716836  1.         ...  0.24585774  0.24368099\n",
      "  -0.14142469]\n",
      " ...\n",
      " [ 0.30319694  0.29319762  0.24585774 ...  1.          0.99077505\n",
      "  -0.65526116]\n",
      " [ 0.30546027  0.29436166  0.24368099 ...  0.99077505  1.\n",
      "  -0.64255341]\n",
      " [-0.08762142 -0.07504671 -0.14142469 ... -0.65526116 -0.64255341\n",
      "   1.        ]]\n",
      "(237, 237)\n"
     ]
    }
   ],
   "source": [
    "(\n",
    "    data,\n",
    "    n,\n",
    "    pve_for_prior,\n",
    "    prior_values,\n",
    "    e,\n",
    "    max_causal,\n",
    "    configs_method,\n",
    "    approx_bf,\n",
    "    rho,\n",
    "    outdir,\n",
    ") = parse_args()"
   ]
  },
  {
   "cell_type": "code",
   "execution_count": 5,
   "id": "c3368fe9",
   "metadata": {},
   "outputs": [
    {
     "name": "stdout",
     "output_type": "stream",
     "text": [
      "Expored models with 2 causal variant in 0.07363581657409668 seconds\n",
      "n_causal 2\n",
      "best config [153]\n",
      "best score 150.473966548052\n"
     ]
    }
   ],
   "source": [
    "config_scores, max_BF = bf.calculate_BFs(\n",
    "    data,\n",
    "    n,\n",
    "    pve_for_prior,\n",
    "    prior_values,\n",
    "    e,\n",
    "    max_causal,\n",
    "    configs_method,\n",
    "    approx_bf,\n",
    "    os.path.join(outdir, \"BF.tsv\"),\n",
    ")"
   ]
  },
  {
   "cell_type": "code",
   "execution_count": 6,
   "id": "03688441",
   "metadata": {},
   "outputs": [],
   "source": [
    "n_causal2log_prior = fm.calculate_priors(data.m, max_causal)"
   ]
  },
  {
   "cell_type": "code",
   "execution_count": 7,
   "id": "dcecca8f",
   "metadata": {},
   "outputs": [],
   "source": [
    "config_scores, total_score = fm.calculate_scores(\n",
    "    config_scores, n_causal2log_prior, max_BF\n",
    ")"
   ]
  },
  {
   "cell_type": "code",
   "execution_count": 8,
   "id": "b6b0c075",
   "metadata": {},
   "outputs": [],
   "source": [
    "u = (data.pve.values if data.pve is not None else np.ones(data.m)) * (\n",
    "    n if approx_bf else (n - 1)\n",
    ")"
   ]
  },
  {
   "cell_type": "code",
   "execution_count": 10,
   "id": "3b143722",
   "metadata": {},
   "outputs": [],
   "source": [
    "config_iter = fm.configurations.SSSConfigurations(\n",
    "    max_causal=max_causal,\n",
    "    m=data.m,\n",
    "    score_config=lambda t: bf.config_BF(\n",
    "        t, data, n, pve_for_prior, prior_values, e, approx_bf, u\n",
    "    ),\n",
    ")"
   ]
  },
  {
   "cell_type": "code",
   "execution_count": 11,
   "id": "8b511143",
   "metadata": {},
   "outputs": [
    {
     "name": "stderr",
     "output_type": "stream",
     "text": [
      "100%|█████████████████████████| 100/100 [00:05<00:00, 17.21it/s]\n"
     ]
    },
    {
     "data": {
      "text/plain": [
       "(array([156, 153]), 167.52641869933765)"
      ]
     },
     "execution_count": 11,
     "metadata": {},
     "output_type": "execute_result"
    }
   ],
   "source": [
    "config_iter.search(num_steps=100)"
   ]
  },
  {
   "cell_type": "code",
   "execution_count": 12,
   "id": "9921a9f7",
   "metadata": {},
   "outputs": [
    {
     "name": "stdout",
     "output_type": "stream",
     "text": [
      "Expored models with 2 causal variant in 0.07263612747192383 seconds\n",
      "n_causal 2\n",
      "best config [153]\n",
      "best score 150.473966548052\n"
     ]
    }
   ],
   "source": [
    "config_iter = fm.configurations.AllConfigurations(\n",
    "    max_causal=max_causal,\n",
    "    m=data.m,\n",
    "    score_config=lambda t: bf.config_BF(\n",
    "        t, data, n, pve_for_prior, prior_values, e, approx_bf, u\n",
    "    ),\n",
    ")\n",
    "config_iter.search()"
   ]
  },
  {
   "cell_type": "code",
   "execution_count": 16,
   "id": "c2ac5708",
   "metadata": {},
   "outputs": [
    {
     "data": {
      "text/plain": [
       "['__class__',\n",
       " '__delattr__',\n",
       " '__dict__',\n",
       " '__dir__',\n",
       " '__doc__',\n",
       " '__eq__',\n",
       " '__format__',\n",
       " '__ge__',\n",
       " '__getattribute__',\n",
       " '__gt__',\n",
       " '__hash__',\n",
       " '__init__',\n",
       " '__init_subclass__',\n",
       " '__le__',\n",
       " '__lt__',\n",
       " '__module__',\n",
       " '__ne__',\n",
       " '__new__',\n",
       " '__reduce__',\n",
       " '__reduce_ex__',\n",
       " '__repr__',\n",
       " '__setattr__',\n",
       " '__sizeof__',\n",
       " '__str__',\n",
       " '__subclasshook__',\n",
       " '__weakref__',\n",
       " 'best_config',\n",
       " 'best_score',\n",
       " 'config',\n",
       " 'current_score',\n",
       " 'ended',\n",
       " 'get_scores_by_n_causal',\n",
       " 'm',\n",
       " 'max_causal',\n",
       " 'n_causal',\n",
       " 'next',\n",
       " 'score_config',\n",
       " 'search',\n",
       " 'visited_config_scores']"
      ]
     },
     "execution_count": 16,
     "metadata": {},
     "output_type": "execute_result"
    }
   ],
   "source": [
    "dir(config_iter)"
   ]
  },
  {
   "cell_type": "code",
   "execution_count": 14,
   "id": "82b897ad",
   "metadata": {},
   "outputs": [
    {
     "data": {
      "text/plain": [
       "167.52641869933765"
      ]
     },
     "execution_count": 14,
     "metadata": {},
     "output_type": "execute_result"
    }
   ],
   "source": [
    "config_iter.score_config(np.array([156, 153]))"
   ]
  }
 ],
 "metadata": {
  "kernelspec": {
   "display_name": "torch-gpu",
   "language": "python",
   "name": "torch-gpu"
  },
  "language_info": {
   "codemirror_mode": {
    "name": "ipython",
    "version": 3
   },
   "file_extension": ".py",
   "mimetype": "text/x-python",
   "name": "python",
   "nbconvert_exporter": "python",
   "pygments_lexer": "ipython3",
   "version": "3.9.18"
  }
 },
 "nbformat": 4,
 "nbformat_minor": 5
}
