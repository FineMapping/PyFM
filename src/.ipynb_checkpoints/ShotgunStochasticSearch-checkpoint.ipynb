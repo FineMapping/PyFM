{
 "cells": [
  {
   "cell_type": "markdown",
   "id": "d47d1621",
   "metadata": {},
   "source": [
    "# ShotgunStochasticSearch\n",
    "<br>\n",
    "\n",
    "> #### Gino Prasad\n",
    "> #### 03/03/2024\n",
    "<br>\n"
   ]
  },
  {
   "cell_type": "code",
   "execution_count": null,
   "id": "1b1568a7",
   "metadata": {},
   "outputs": [],
   "source": [
    "python fm.py -z ../../caviarbf/master/example/eQTL/region.LOC284581.chr1.205831207.205865215.dosage.p1e-12.z -r ../../caviarbf/master/example/eQTL/region.LOC284581.chr1.205831207.205865215.dosage.p1e-12.LD -o ../results -n 471 -c 3 -t 0 -e 0.1 -a 1.6"
   ]
  },
  {
   "cell_type": "code",
   "execution_count": 2,
   "id": "45ecf9b1",
   "metadata": {},
   "outputs": [
    {
     "ename": "ModuleNotFoundError",
     "evalue": "No module named 'bf'",
     "output_type": "error",
     "traceback": [
      "\u001b[0;31m---------------------------------------------------------------------------\u001b[0m",
      "\u001b[0;31mModuleNotFoundError\u001b[0m                       Traceback (most recent call last)",
      "Input \u001b[0;32mIn [2]\u001b[0m, in \u001b[0;36m<cell line: 1>\u001b[0;34m()\u001b[0m\n\u001b[0;32m----> 1\u001b[0m \u001b[38;5;28;01mimport\u001b[39;00m \u001b[38;5;21;01mfm\u001b[39;00m\n",
      "File \u001b[0;32m~/_School/CSE_284/project/PyFM/src/fm.py:11\u001b[0m, in \u001b[0;36m<module>\u001b[0;34m\u001b[0m\n\u001b[1;32m      9\u001b[0m \u001b[38;5;66;03m# from utils import\u001b[39;00m\n\u001b[1;32m     10\u001b[0m \u001b[38;5;28;01mfrom\u001b[39;00m \u001b[38;5;21;01mdata\u001b[39;00m \u001b[38;5;28;01mimport\u001b[39;00m Data\n\u001b[0;32m---> 11\u001b[0m \u001b[38;5;28;01mfrom\u001b[39;00m \u001b[38;5;21;01mbf\u001b[39;00m \u001b[38;5;28;01mimport\u001b[39;00m calculate_BFs, calculate_scores\n\u001b[1;32m     12\u001b[0m \u001b[38;5;28;01mfrom\u001b[39;00m \u001b[38;5;21;01mconfigurations\u001b[39;00m \u001b[38;5;28;01mimport\u001b[39;00m CONFIGS_IMPL_MAP\n\u001b[1;32m     13\u001b[0m \u001b[38;5;28;01mfrom\u001b[39;00m \u001b[38;5;21;01mpriors\u001b[39;00m \u001b[38;5;28;01mimport\u001b[39;00m calculate_priors\n",
      "\u001b[0;31mModuleNotFoundError\u001b[0m: No module named 'bf'"
     ]
    }
   ],
   "source": [
    "import fm"
   ]
  },
  {
   "cell_type": "code",
   "execution_count": null,
   "id": "233a9627",
   "metadata": {},
   "outputs": [],
   "source": []
  }
 ],
 "metadata": {
  "kernelspec": {
   "display_name": "CSE284Project",
   "language": "python",
   "name": "cse284project"
  },
  "language_info": {
   "codemirror_mode": {
    "name": "ipython",
    "version": 3
   },
   "file_extension": ".py",
   "mimetype": "text/x-python",
   "name": "python",
   "nbconvert_exporter": "python",
   "pygments_lexer": "ipython3",
   "version": "3.9.18"
  }
 },
 "nbformat": 4,
 "nbformat_minor": 5
}
